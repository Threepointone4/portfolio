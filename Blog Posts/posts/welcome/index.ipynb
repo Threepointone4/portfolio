{
  "cells": [
    {
      "cell_type": "raw",
      "metadata": {},
      "source": [
        "---\n",
        "title: \"Introduction to Stable Diffusion\"\n",
        "author: \"Vishwas Pai\"\n",
        "date: \"2022-10-29\"\n",
        "categories: [CV]\n",
        "---"
      ],
      "id": "ce784538"
    },
    {
      "cell_type": "markdown",
      "metadata": {},
      "source": [
        "In this blog we will go through how **stable diffusion** models work.\n",
        "\n",
        "![Image Credit [link](https://www.jousefmurad.com/content/images/2022/10/316b0d3b-591e-455f-b721-beaba73d0a0a_2400x1100.png)](stable_diffusion.png)\n",
        "\n",
        "This Blog is mainly Summary of the Fastai [video](https://www.youtube.com/watch?v=_7rMfsA24Ls&t=1s). We will be using [diffusers](https://github.com/huggingface/diffusers) library by huggingface.\n",
        "\n",
        "\n",
        "Lets understand the intuition of these. \n",
        "\n",
        "Lets say we have alot of images. We will add random gaussian noise to the image. Now we have images with `somewhat` noisy image. \n",
        "Lets take these images and train a model which extracts the noise we have added.\n",
        "\n",
        "\n",
        "![](diffusion_arch.png)\n",
        "\n",
        "Now we have model which given noisy image extract noise and we can have image generated.\n",
        "\n",
        "As our model knows to extract `somewhat` noise , so given full noisy image we will iterate for X steps to the get the final output. \n",
        "\n",
        "![Output for single noise extraction](first_step_output.png)\n",
        "\n",
        "As you can see from above example.In first iteration it may extract some noise. Again it will be given to extract. This when we do for X steps we get the final output.\n",
        "\n",
        "\n",
        "![Image Credit [link](https://huggingface.co/blog/assets/78_annotated-diffusion/thumbnail.png)](noisy2proper.png)\n",
        "\n",
        "\n",
        "Lets see quick example using huggingface\n"
      ],
      "id": "0d07e8b2"
    },
    {
      "cell_type": "code",
      "metadata": {},
      "source": [
        "pipe2 = StableDiffusionPipeline.from_pretrained(\"CompVis/stable-diffusion-v1-4\", revision=\"fp16\", torch_dtype=torch.float16).to(\"cuda\")\n"
      ],
      "id": "7562eedd",
      "execution_count": null,
      "outputs": []
    }
  ],
  "metadata": {
    "kernelspec": {
      "name": "pytorch",
      "language": "python",
      "display_name": "Python 3.9 (pytorch)"
    }
  },
  "nbformat": 4,
  "nbformat_minor": 5
}